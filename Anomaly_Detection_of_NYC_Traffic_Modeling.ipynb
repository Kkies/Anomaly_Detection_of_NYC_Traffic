{
 "cells": [
  {
   "cell_type": "markdown",
   "metadata": {},
   "source": [
    "# Detecting NYC Traffic Anomalies Modeling Notebook"
   ]
  },
  {
   "cell_type": "markdown",
   "metadata": {},
   "source": [
    "In this notebook I will walkthrough the modeling process I used on the previously cleaned NYC traffic dataset. If you want to follow along and haven't cleaned the data yet, please go back and follow along with EDA notebook. For this notebook, we are only fiting our models to one sensor, because the goal is to decide upon a final model we can use on the rest of the senors. At the end of this notebook we will have the final models we will then train on the rest of the senors in the next notebook. "
   ]
  },
  {
   "cell_type": "markdown",
   "metadata": {},
   "source": [
    "<b>Note: An ARIMA model was tried, but it consumed too much memory and kept crashing my kernel. Consequently, all trained models are variations of neural nets."
   ]
  },
  {
   "cell_type": "markdown",
   "metadata": {},
   "source": [
    "## Libraries Needed"
   ]
  },
  {
   "cell_type": "code",
   "execution_count": 434,
   "metadata": {},
   "outputs": [],
   "source": [
    "#import required libraries\n",
    "import pandas as pd\n",
    "import numpy as np\n",
    "import datetime\n",
    "import matplotlib.pyplot as plt\n",
    "plt.style.use('fivethirtyeight')\n",
    "import folium\n",
    "from keras.losses import mean_squared_error\n",
    "import keras\n",
    "import tensorflow as tf\n",
    "import pickle"
   ]
  },
  {
   "cell_type": "markdown",
   "metadata": {},
   "source": [
    "## Custom Functions Needed "
   ]
  },
  {
   "cell_type": "code",
   "execution_count": 21,
   "metadata": {},
   "outputs": [],
   "source": [
    "def standardize_df(dataframe, column, X_steps, y_steps, num_train_sets):\n",
    "    \"\"\"\n",
    "    This function standardizes the data of a column.\n",
    "    \n",
    "    dataframe: dataframe to standarize\n",
    "    column: the column in the dataframe to standardize\n",
    "    X_steps: the number of rows used to train on\n",
    "    y_steps: the number of rows used to test on\n",
    "    num_train_sets: the number of training sets there are for this dataframe\n",
    "    \"\"\"\n",
    "    #import needed libraries\n",
    "    from sklearn.preprocessing import StandardScaler\n",
    "    \n",
    "    #slice the dataframe down to the column to be scaled\n",
    "    df = pd.DataFrame(dataframe[column])\n",
    "    \n",
    "    # initialize the standard scaler\n",
    "    scaler = StandardScaler()\n",
    "    #train the standard scaler on the rows that will be in the training set\n",
    "    scaler = scaler.fit(df.iloc[:(num_train_sets * (X_steps + y_steps))])\n",
    "    \n",
    "    # standardize the dataframe\n",
    "    df = pd.DataFrame(scaler.transform(df), columns=[column])\n",
    "    \n",
    "    # return the standardized dataframe\n",
    "    return df"
   ]
  },
  {
   "cell_type": "code",
   "execution_count": 24,
   "metadata": {},
   "outputs": [],
   "source": [
    "def train_val_test_dfs(dataframe, column, X_steps=50, y_steps=1, val_size=0.2, test_size=0.1, standardize=False):\n",
    "    \"\"\"\n",
    "    This function splits a dataframe into training, testing and\n",
    "    validation sets.\n",
    "    \n",
    "    dataframe: dataframe to split\n",
    "    column: string of the column in the dataframe to use since our application is a univariate timeseries\n",
    "    X_steps: integer of the number of rows used to train on\n",
    "    y_steps: integer of the number of rows used to predict on\n",
    "    val_size: float less than 1.0 of the percentage of the dataframe to be for validation\n",
    "    test_size: float less than 1.0 of the percentage of the dataframe to be for testing\n",
    "    standardize: boolean indicating whether or not to standardize the sets\n",
    "    \"\"\"\n",
    "    \n",
    "    # calculate the number of sets that are possible given the amount of steps to train and predict on\n",
    "    num_sets = len(dataframe) // (X_steps + y_steps)\n",
    "    # calculate how to offset the data so that the sets are of the most recent data\n",
    "    offset = (len(dataframe) % (X_steps + y_steps)) - 1\n",
    "    # calculate the number of validation sets\n",
    "    num_val_sets = int(num_sets * val_size)\n",
    "    # calculate the number of test sets\n",
    "    num_test_sets = int(num_sets * test_size)\n",
    "    # calculate the number of training sets\n",
    "    num_train_sets = num_sets - num_val_sets - num_test_sets\n",
    "    \n",
    "    # if the dataframe needs to be standardized then standardize it. Otherwise pass on the dataframe given\n",
    "    if standardize:\n",
    "        df = standardize_df(dataframe, column, X_steps, y_steps, num_train_sets)\n",
    "    else:\n",
    "        df = dataframe.copy()\n",
    "        \n",
    "    # instantiate empty lists for each type of set\n",
    "    X_train, y_train = [], []\n",
    "    X_val, y_val = [], []\n",
    "    X_test, y_test = [], []\n",
    "    \n",
    "    # loop the number of sets the dataframe can produce\n",
    "    for i in range(num_sets):\n",
    "        # if i is less than the number of training sets to be produced make another training set\n",
    "        if i < num_train_sets:\n",
    "            X_train.append(np.array(df[column].iloc[(i*X_steps) + offset: (i*X_steps) + X_steps + offset])[:, np.newaxis])\n",
    "            y_train.append(np.array(df[column].iloc[(i*X_steps) + X_steps + offset: (i*X_steps) + X_steps + offset + y_steps])[:, np.newaxis])\n",
    "        # else if i is less than the number of validation sets to be produced make another validation set\n",
    "        elif i < (num_train_sets + num_val_sets):\n",
    "            X_val.append(np.array(df[column].iloc[(i*X_steps) + offset: (i*X_steps) + X_steps + offset])[:, np.newaxis])\n",
    "            y_val.append(np.array(df[column].iloc[(i*X_steps) + X_steps + offset: (i*X_steps) + X_steps + offset + y_steps])[:, np.newaxis])\n",
    "        # else make a testing set\n",
    "        else:\n",
    "            X_test.append(np.array(df[column].iloc[(i*X_steps) + offset: (i*X_steps) + X_steps + offset])[:, np.newaxis])\n",
    "            y_test.append(np.array(df[column].iloc[(i*X_steps) + X_steps + offset: (i*X_steps) + X_steps + offset + y_steps])[:, np.newaxis])\n",
    "    # turn the lists into arrays so keras can process the each set\n",
    "    return np.array(X_train), np.array(y_train), np.array(X_val), np.array(y_val), np.array(X_test), np.array(y_test)"
   ]
  },
  {
   "cell_type": "markdown",
   "metadata": {},
   "source": [
    "---"
   ]
  },
  {
   "cell_type": "markdown",
   "metadata": {},
   "source": [
    "## Modeling"
   ]
  },
  {
   "cell_type": "markdown",
   "metadata": {},
   "source": [
    "Import the data that we will use."
   ]
  },
  {
   "cell_type": "code",
   "execution_count": 6,
   "metadata": {},
   "outputs": [],
   "source": [
    "with open('sensor_dfs.pickle', 'rb') as handle:\n",
    "    sensor_dfs = pickle.load(handle)"
   ]
  },
  {
   "cell_type": "markdown",
   "metadata": {},
   "source": [
    "First, lets establish the amount of datapoints we want to use to predict and how far out we want to predict. For this we are going to use 18 steps which is 1.5 hours of 5 minute data to predict and we will forcast out 3 steps which is 15 minutes of 5 minute data."
   ]
  },
  {
   "cell_type": "code",
   "execution_count": 398,
   "metadata": {},
   "outputs": [],
   "source": [
    "X_steps = 18\n",
    "y_steps = 3"
   ]
  },
  {
   "cell_type": "markdown",
   "metadata": {},
   "source": [
    "Let's randomly choose a sensor to model."
   ]
  },
  {
   "cell_type": "code",
   "execution_count": 262,
   "metadata": {},
   "outputs": [
    {
     "data": {
      "text/plain": [
       "264"
      ]
     },
     "execution_count": 262,
     "metadata": {},
     "output_type": "execute_result"
    }
   ],
   "source": [
    "import random\n",
    "random.seed(28)\n",
    "random.choice(list(sensor_dfs.keys()))"
   ]
  },
  {
   "cell_type": "code",
   "execution_count": 415,
   "metadata": {},
   "outputs": [],
   "source": [
    "#split and standardize our data\n",
    "X_train, y_train, X_val, y_val, X_test, y_test = train_val_test_dfs(dataframe = sensor_dfs[264], column = 'SPEED', X_steps = X_steps, y_steps = y_steps, standardize = True)"
   ]
  },
  {
   "cell_type": "markdown",
   "metadata": {},
   "source": [
    "### Baseline"
   ]
  },
  {
   "cell_type": "markdown",
   "metadata": {},
   "source": [
    "Our baseline is simply predicting the last value for the next x values. For all of our models we are going to use mean squared error for optimization. This is because we want to reduce the amount that our predictions are off by while punishing large error. Mean squared error does this because we are squaring the error. Therefore, the model is more heavily punished when being off by large amounts. The reason we don't want to be off by a lot is becuase we want to detect anomalies. Consequently, we want to reduce the amount of predictions we miss by a lot so we will be more accurate in detecting anomalies in the future."
   ]
  },
  {
   "cell_type": "code",
   "execution_count": 455,
   "metadata": {},
   "outputs": [
    {
     "data": {
      "text/plain": [
       "0.342226066397614"
      ]
     },
     "execution_count": 455,
     "metadata": {},
     "output_type": "execute_result"
    }
   ],
   "source": [
    "y_pred = X_val[:, -y_steps:]\n",
    "\n",
    "np.mean(mean_squared_error(y_val, y_pred))"
   ]
  },
  {
   "cell_type": "markdown",
   "metadata": {},
   "source": [
    "As you can see it didn't perform that well. On average our model is off by 2 standard deviations each predicted step."
   ]
  },
  {
   "cell_type": "markdown",
   "metadata": {},
   "source": [
    "### Vanilla Neural Net"
   ]
  },
  {
   "cell_type": "markdown",
   "metadata": {},
   "source": [
    "This model is as simple as it gets for a neural net. We have an input layer and an output layer. They are fully connected. We will run this model for 10 epochs and use Mean Squared Error for our loss function."
   ]
  },
  {
   "cell_type": "code",
   "execution_count": 417,
   "metadata": {},
   "outputs": [
    {
     "name": "stdout",
     "output_type": "stream",
     "text": [
      "Epoch 1/5\n",
      "383/383 [==============================] - 0s 382us/step - loss: 0.4694\n",
      "Epoch 2/5\n",
      "383/383 [==============================] - 0s 356us/step - loss: 0.2699\n",
      "Epoch 3/5\n",
      "383/383 [==============================] - 0s 390us/step - loss: 0.2243\n",
      "Epoch 4/5\n",
      "383/383 [==============================] - 0s 438us/step - loss: 0.1974\n",
      "Epoch 5/5\n",
      "383/383 [==============================] - 0s 391us/step - loss: 0.1787\n"
     ]
    },
    {
     "data": {
      "text/plain": [
       "<tensorflow.python.keras.callbacks.History at 0x7fc0765251f0>"
      ]
     },
     "execution_count": 417,
     "metadata": {},
     "output_type": "execute_result"
    }
   ],
   "source": [
    "model1 = keras.models.Sequential([\n",
    "    keras.layers.Flatten(input_shape=[X_steps, 1]),\n",
    "    keras.layers.Dense(y_steps)\n",
    "])\n",
    "\n",
    "model1.compile(optimizer='Adam', loss=tf.keras.losses.MeanSquaredError())\n",
    "\n",
    "model1.fit(X_train, y_train, epochs = 5)"
   ]
  },
  {
   "cell_type": "code",
   "execution_count": 418,
   "metadata": {
    "scrolled": true
   },
   "outputs": [
    {
     "name": "stdout",
     "output_type": "stream",
     "text": [
      "110/110 [==============================] - 0s 351us/step - loss: 0.2734\n"
     ]
    },
    {
     "data": {
      "text/plain": [
       "0.2734015882015228"
      ]
     },
     "execution_count": 418,
     "metadata": {},
     "output_type": "execute_result"
    }
   ],
   "source": [
    "model1.evaluate(X_val, y_val)"
   ]
  },
  {
   "cell_type": "markdown",
   "metadata": {},
   "source": [
    "We improved a significant amount from our baseline, but we are overfitting to our trainging set quite a bit."
   ]
  },
  {
   "cell_type": "markdown",
   "metadata": {},
   "source": [
    "### RNNs"
   ]
  },
  {
   "cell_type": "markdown",
   "metadata": {},
   "source": [
    "The next two models will use recursive neural nets to see if we can improve upon our predictions. The first one is pretty simple, two rnn layers with 10 neurons each and then the output layer."
   ]
  },
  {
   "cell_type": "code",
   "execution_count": 467,
   "metadata": {},
   "outputs": [
    {
     "name": "stdout",
     "output_type": "stream",
     "text": [
      "Epoch 1/10\n",
      "383/383 [==============================] - 1s 3ms/step - loss: 0.8196\n",
      "Epoch 2/10\n",
      "383/383 [==============================] - 1s 3ms/step - loss: 0.8065\n",
      "Epoch 3/10\n",
      "383/383 [==============================] - 1s 3ms/step - loss: 0.8057\n",
      "Epoch 4/10\n",
      "383/383 [==============================] - 1s 4ms/step - loss: 0.8054\n",
      "Epoch 5/10\n",
      "383/383 [==============================] - 1s 3ms/step - loss: 0.8050\n",
      "Epoch 6/10\n",
      "383/383 [==============================] - 1s 3ms/step - loss: 0.8050\n",
      "Epoch 7/10\n",
      "383/383 [==============================] - 1s 3ms/step - loss: 0.8049\n",
      "Epoch 8/10\n",
      "383/383 [==============================] - 1s 3ms/step - loss: 0.8048\n",
      "Epoch 9/10\n",
      "383/383 [==============================] - 1s 3ms/step - loss: 0.8046\n",
      "Epoch 10/10\n",
      "383/383 [==============================] - 1s 3ms/step - loss: 0.8045\n"
     ]
    },
    {
     "data": {
      "text/plain": [
       "<tensorflow.python.keras.callbacks.History at 0x7fc07f0e13a0>"
      ]
     },
     "execution_count": 467,
     "metadata": {},
     "output_type": "execute_result"
    }
   ],
   "source": [
    "model2 = keras.models.Sequential([\n",
    "    keras.layers.SimpleRNN(10, return_sequences=True, input_shape=[None, 1]),\n",
    "    keras.layers.SimpleRNN(10),\n",
    "    keras.layers.Dense(y_steps, activation='relu')\n",
    "])\n",
    "\n",
    "model2.compile(optimizer='Adam', loss=tf.keras.losses.MeanSquaredError())\n",
    "\n",
    "model2.fit(X_train, y_train, epochs = 10)"
   ]
  },
  {
   "cell_type": "code",
   "execution_count": 468,
   "metadata": {
    "scrolled": true
   },
   "outputs": [
    {
     "name": "stdout",
     "output_type": "stream",
     "text": [
      "110/110 [==============================] - 0s 1ms/step - loss: 1.3157\n"
     ]
    },
    {
     "data": {
      "text/plain": [
       "1.3157376050949097"
      ]
     },
     "execution_count": 468,
     "metadata": {},
     "output_type": "execute_result"
    }
   ],
   "source": [
    "model2.evaluate(X_val, y_val)"
   ]
  },
  {
   "cell_type": "markdown",
   "metadata": {},
   "source": [
    "This model is way worse than any of the previous models. We will try to improve upon this RNN in the next model, but RNNs might not be viable for this dataset."
   ]
  },
  {
   "cell_type": "code",
   "execution_count": 479,
   "metadata": {},
   "outputs": [
    {
     "name": "stdout",
     "output_type": "stream",
     "text": [
      "Epoch 1/5\n",
      "383/383 [==============================] - 2s 5ms/step - loss: 0.8294\n",
      "Epoch 2/5\n",
      "383/383 [==============================] - 2s 5ms/step - loss: 0.8122\n",
      "Epoch 3/5\n",
      "383/383 [==============================] - 2s 5ms/step - loss: 0.8092\n",
      "Epoch 4/5\n",
      "383/383 [==============================] - 2s 5ms/step - loss: 0.8081\n",
      "Epoch 5/5\n",
      "383/383 [==============================] - 2s 5ms/step - loss: 0.8073\n"
     ]
    },
    {
     "data": {
      "text/plain": [
       "<tensorflow.python.keras.callbacks.History at 0x7fc0739d13d0>"
      ]
     },
     "execution_count": 479,
     "metadata": {},
     "output_type": "execute_result"
    }
   ],
   "source": [
    "model3 = keras.models.Sequential([\n",
    "    keras.layers.SimpleRNN(10, return_sequences=True, input_shape=[None, 1]),\n",
    "    keras.layers.Dropout(rate=0.1),\n",
    "    keras.layers.SimpleRNN(20, return_sequences=True),\n",
    "    keras.layers.SimpleRNN(30),\n",
    "    keras.layers.Dense(y_steps, activation='relu')\n",
    "])\n",
    "\n",
    "model3.compile(optimizer='Adam', loss=tf.keras.losses.MeanSquaredError())\n",
    "\n",
    "model3.fit(X_train, y_train, epochs = 5)"
   ]
  },
  {
   "cell_type": "code",
   "execution_count": 480,
   "metadata": {
    "scrolled": true
   },
   "outputs": [
    {
     "name": "stdout",
     "output_type": "stream",
     "text": [
      "110/110 [==============================] - 0s 2ms/step - loss: 1.3169\n"
     ]
    },
    {
     "data": {
      "text/plain": [
       "1.3169362545013428"
      ]
     },
     "execution_count": 480,
     "metadata": {},
     "output_type": "execute_result"
    }
   ],
   "source": [
    "model3.evaluate(X_val, y_val)"
   ]
  },
  {
   "cell_type": "markdown",
   "metadata": {},
   "source": [
    "I tried various combinations to try to improve upon the previous model, but improvements were only ever marginal if at all. I don't think RNNs are viable. Let's go back to fully connected neural nets and try to improve upon them."
   ]
  },
  {
   "cell_type": "markdown",
   "metadata": {},
   "source": [
    "### Fully Connected Neural Nets"
   ]
  },
  {
   "cell_type": "markdown",
   "metadata": {},
   "source": [
    "This model adds three layers to our simple neural net from before. One is a dropout layer to help the model generalize. The other two are dense layers with varying neurons."
   ]
  },
  {
   "cell_type": "code",
   "execution_count": 493,
   "metadata": {},
   "outputs": [
    {
     "name": "stdout",
     "output_type": "stream",
     "text": [
      "Epoch 1/5\n",
      "383/383 [==============================] - 0s 563us/step - loss: 0.2283\n",
      "Epoch 2/5\n",
      "383/383 [==============================] - 0s 568us/step - loss: 0.1531\n",
      "Epoch 3/5\n",
      "383/383 [==============================] - 0s 569us/step - loss: 0.1473\n",
      "Epoch 4/5\n",
      "383/383 [==============================] - 0s 709us/step - loss: 0.1420\n",
      "Epoch 5/5\n",
      "383/383 [==============================] - 0s 590us/step - loss: 0.1401\n"
     ]
    },
    {
     "data": {
      "text/plain": [
       "<tensorflow.python.keras.callbacks.History at 0x7fc1b22f11c0>"
      ]
     },
     "execution_count": 493,
     "metadata": {},
     "output_type": "execute_result"
    }
   ],
   "source": [
    "model4 = keras.models.Sequential([\n",
    "    keras.layers.Flatten(input_shape=[X_steps, 1]),\n",
    "    keras.layers.Dense(200),\n",
    "    keras.layers.Dropout(rate=0.2),\n",
    "    keras.layers.Dense(20),\n",
    "    keras.layers.Dense(y_steps)\n",
    "])\n",
    "\n",
    "model4.compile(optimizer='Adam', loss=tf.keras.losses.MeanSquaredError())\n",
    "\n",
    "model4.fit(X_train, y_train, epochs = 5)"
   ]
  },
  {
   "cell_type": "code",
   "execution_count": 494,
   "metadata": {
    "scrolled": true
   },
   "outputs": [
    {
     "name": "stdout",
     "output_type": "stream",
     "text": [
      "110/110 [==============================] - 0s 442us/step - loss: 0.2074\n"
     ]
    },
    {
     "data": {
      "text/plain": [
       "0.20744766294956207"
      ]
     },
     "execution_count": 494,
     "metadata": {},
     "output_type": "execute_result"
    }
   ],
   "source": [
    "model4.evaluate(X_val, y_val)"
   ]
  },
  {
   "cell_type": "markdown",
   "metadata": {},
   "source": [
    "This performed the best so far, but there is overfitting occuring. Let's see if we can address that in the next model."
   ]
  },
  {
   "cell_type": "code",
   "execution_count": 515,
   "metadata": {},
   "outputs": [
    {
     "name": "stdout",
     "output_type": "stream",
     "text": [
      "Epoch 1/5\n",
      "383/383 [==============================] - 0s 530us/step - loss: 0.4936\n",
      "Epoch 2/5\n",
      "383/383 [==============================] - 0s 638us/step - loss: 0.2490\n",
      "Epoch 3/5\n",
      "383/383 [==============================] - 0s 614us/step - loss: 0.2073\n",
      "Epoch 4/5\n",
      "383/383 [==============================] - 0s 538us/step - loss: 0.2051\n",
      "Epoch 5/5\n",
      "383/383 [==============================] - 0s 541us/step - loss: 0.1999\n"
     ]
    },
    {
     "data": {
      "text/plain": [
       "<tensorflow.python.keras.callbacks.History at 0x7fc117f7a3d0>"
      ]
     },
     "execution_count": 515,
     "metadata": {},
     "output_type": "execute_result"
    }
   ],
   "source": [
    "model5 = keras.models.Sequential([\n",
    "    keras.layers.Flatten(input_shape=[X_steps, 1]),\n",
    "    keras.layers.Dense(40),\n",
    "    keras.layers.Dropout(rate=0.2),\n",
    "    keras.layers.Dense(40),\n",
    "    keras.layers.Dropout(rate=0.2),\n",
    "    keras.layers.Dense(20),\n",
    "    keras.layers.Dropout(rate=0.2),\n",
    "    keras.layers.Dense(y_steps)\n",
    "])\n",
    "\n",
    "model5.compile(optimizer='Adam', loss=tf.keras.losses.MeanSquaredError())\n",
    "\n",
    "model5.fit(X_train, y_train, epochs = 5)"
   ]
  },
  {
   "cell_type": "code",
   "execution_count": 516,
   "metadata": {
    "scrolled": true
   },
   "outputs": [
    {
     "name": "stdout",
     "output_type": "stream",
     "text": [
      "110/110 [==============================] - 0s 367us/step - loss: 0.2047\n"
     ]
    },
    {
     "data": {
      "text/plain": [
       "0.20474326610565186"
      ]
     },
     "execution_count": 516,
     "metadata": {},
     "output_type": "execute_result"
    }
   ],
   "source": [
    "model5.evaluate(X_val, y_val)"
   ]
  },
  {
   "cell_type": "markdown",
   "metadata": {},
   "source": [
    "Perfect! We are achieving a good mse and our model isn't overfitting. We will use this for our final model."
   ]
  },
  {
   "cell_type": "markdown",
   "metadata": {},
   "source": [
    "Build a montecarlo dropout"
   ]
  },
  {
   "cell_type": "markdown",
   "metadata": {},
   "source": [
    "### Plotting our error"
   ]
  },
  {
   "cell_type": "code",
   "execution_count": 517,
   "metadata": {},
   "outputs": [
    {
     "data": {
      "image/png": "[encoded data removed]",
      "text/plain": [
       "<Figure size 432x288 with 1 Axes>"
      ]
     },
     "metadata": {},
     "output_type": "display_data"
    }
   ],
   "source": [
    "plt.plot(model5.predict(X_val));"
   ]
  },
  {
   "cell_type": "code",
   "execution_count": 518,
   "metadata": {},
   "outputs": [
    {
     "data": {
      "image/png": "[encoded data removed]",
      "text/plain": [
       "<Figure size 432x288 with 1 Axes>"
      ]
     },
     "metadata": {},
     "output_type": "display_data"
    }
   ],
   "source": [
    "plt.plot(((model5.predict(X_val) - y_val[:, :, 0]) ** 2), );"
   ]
  },
  {
   "cell_type": "code",
   "execution_count": 519,
   "metadata": {},
   "outputs": [
    {
     "data": {
      "text/plain": [
       "[<matplotlib.lines.Line2D at 0x7fc1d9fd7730>]"
      ]
     },
     "execution_count": 519,
     "metadata": {},
     "output_type": "execute_result"
    },
    {
     "data": {
      "image/png": "[encoded data removed]",
      "text/plain": [
       "<Figure size 432x288 with 1 Axes>"
      ]
     },
     "metadata": {},
     "output_type": "display_data"
    }
   ],
   "source": [
    "plt.plot(((model5.predict(X_val) - y_val[:, :, 0]) ** 2).mean(axis=0))"
   ]
  },
  {
   "cell_type": "code",
   "execution_count": null,
   "metadata": {},
   "outputs": [],
   "source": [
    "sens142_clean['SPEED'].mean()"
   ]
  },
  {
   "cell_type": "code",
   "execution_count": null,
   "metadata": {},
   "outputs": [],
   "source": [
    "sens142_clean['SPEED'].std() * 0.3"
   ]
  },
  {
   "cell_type": "code",
   "execution_count": null,
   "metadata": {},
   "outputs": [],
   "source": [
    "def sensor_etl(df, ID, filename, start_year = 2019, end_year = 2020):\n",
    "    \"\"\"\n",
    "    \n",
    "    \n",
    "    \"\"\"\n",
    "    #file suffix\n",
    "    if start_year == end_year:\n",
    "        suffix = str(start_year)\n",
    "    else:\n",
    "        suffix = str(start_year) + '_' + str(end_year)\n",
    "        \n",
    "    #import libraries\n",
    "    from IPython.display import clear_output\n",
    "\n",
    "    # Group the time series into weekly buckets\n",
    "    sens_weekly = sens_clean['SPEED'].resample('7D')\n",
    "\n",
    "    # Take the mean of each group \n",
    "    sens_weekly_mean = sens_weekly.mean()\n",
    "    \n",
    "    #plot the generic trend and save the figure\n",
    "    fig1, ax1 = plt.subplots(figsize=(16,8))\n",
    "    sens_weekly_mean.plot(color='blue', ax=ax1);\n",
    "    fig1.set_facecolor('white')\n",
    "    fig1.suptitle('Weekly Traffic Speeds (' + filename + ')')\n",
    "    ax1.grid(axis='y')\n",
    "    ax1.set_xlabel('Date')\n",
    "    ax1.set_ylabel('Average Traffic Speed (MPH)')\n",
    "    ax1.set_facecolor('white')\n",
    "    for x in ['bottom', 'top', 'right', 'left']:\n",
    "        ax1.spines[x].set_color('black')\n",
    "    \n",
    "    plt.savefig(filename + '_weekly_trend_' + suffix, bbox_inches='tight', facecolor='white')\n",
    "    plt.close()\n",
    "\n",
    "    #aggregate all of the data to each weekday and plot that data\n",
    "    weekly_agg = day_of_week_agg(sens_clean)\n",
    "\n",
    "    fig2, ax2 = plt.subplots(figsize=(16,8));\n",
    "    for i in range(7):\n",
    "        colors= ['blue', 'red', 'orange', 'green', 'gray', 'purple', 'darkblue']\n",
    "        weekly_agg[i]['SPEED'].plot(ax=ax2, color=colors[i], alpha=0.75);\n",
    "    color='black'   \n",
    "    fig2.legend(labels=['Monday', 'Tuesday', 'Wednesday', 'Thurday', 'Friday', 'Saturday', 'Sunday']\n",
    "               , edgecolor='black', framealpha=1, loc=(.85,.101), facecolor='white')\n",
    "    fig2.set_facecolor('white')\n",
    "    fig2.suptitle('Average Traffic Speeds Per Day (' + filename + ')', color=color)\n",
    "    ax2.grid(axis='y')\n",
    "    ax2.set_xticks([287, 251, 215, 179, 143, 107, 71, 35, 0])\n",
    "    ax2.set_xticklabels(['12am', '9pm', '6pm', '3pm', '12pm', '9am', '6am', '3am', '12am'], color=color)\n",
    "    ax2.set_xlabel('Time', color=color)\n",
    "    ax2.set_ylabel('Average Traffic Speed (MPH)', color=color)\n",
    "    ax2.set_facecolor('white')\n",
    "    ax2.tick_params(axis='y', colors=color)\n",
    "    for x in ['bottom', 'top', 'right', 'left']:\n",
    "        ax2.spines[x].set_color('black')\n",
    "    plt.savefig(filename + '_weekdays_' + suffix, bbox_inches='tight', facecolor='white')\n",
    "    plt.close()\n",
    "\n",
    "    #make the df stationary\n",
    "    sens_clean = pd.DataFrame(sens_clean['SPEED'].copy().diff(2016))\n",
    "    sens_clean.dropna(inplace = True)\n",
    "\n",
    "    #number of steps to train on and predict on\n",
    "    X_steps = 1440\n",
    "    y_steps = 72\n",
    "\n",
    "    #standardize data and split into train, val and test sets\n",
    "    X_train, y_train, X_val, y_val, X_test, y_test = train_val_test_dfs(dataframe = sens_clean, column = 'SPEED', X_steps = X_steps, y_steps = y_steps, standardize=True)\n",
    "\n",
    "    #------MODELING------\n",
    "    #Baseline\n",
    "    y_pred = X_val[:, -y_steps:]\n",
    "\n",
    "    baseline_loss = np.mean(mean_squared_error(y_val, y_pred))\n",
    "\n",
    "#     #Vanilla Model\n",
    "#     model1 = keras.models.Sequential([\n",
    "#         keras.layers.Flatten(input_shape=[X_steps, 1]),\n",
    "#         keras.layers.Dense(y_steps)\n",
    "#     ])\n",
    "#     model1.compile(optimizer='Adam', loss=tf.keras.losses.MeanSquaredError())\n",
    "#     print('Model 1/5')\n",
    "#     history1 = model1.fit(X_train, y_train, epochs = 20)\n",
    "#     train_loss1 = history1.history['loss'][-1]\n",
    "#     val_loss1 = model1.evaluate(X_val, y_val)\n",
    "#     clear_output(wait=True)\n",
    "    \n",
    "#     ## Deep RNN\n",
    "#     model2 = keras.models.Sequential([\n",
    "#         keras.layers.SimpleRNN(10, return_sequences=True, input_shape=[None, 1]),\n",
    "#         keras.layers.SimpleRNN(10),\n",
    "#         keras.layers.Dense(y_steps, activation='relu')\n",
    "#     ])\n",
    "#     model2.compile(optimizer='Adam', loss=tf.keras.losses.MeanSquaredError())\n",
    "#     print('Model 2/5')\n",
    "#     history2 = model2.fit(X_train, y_train, epochs = 20)\n",
    "#     train_loss2 = history2.history['loss'][-1]\n",
    "#     val_loss2 = model2.evaluate(X_val, y_val)\n",
    "#     clear_output(wait=True)\n",
    "\n",
    "#     model3 = keras.models.Sequential([\n",
    "#         keras.layers.SimpleRNN(30, return_sequences=True, input_shape=[None, 1]),\n",
    "#         keras.layers.SimpleRNN(30),\n",
    "#         keras.layers.Dense(y_steps, activation='relu')\n",
    "#     ])\n",
    "#     model3.compile(optimizer='Adam', loss=tf.keras.losses.MeanSquaredError())\n",
    "#     print('Model 3/5')\n",
    "#     history3 = model3.fit(X_train, y_train, epochs = 20)\n",
    "#     train_loss3 = history3.history['loss'][-1]\n",
    "#     val_loss3 = model3.evaluate(X_val, y_val)\n",
    "#     clear_output(wait=True)\n",
    "    \n",
    "    #fully connected neural nets\n",
    "    model4 = keras.models.Sequential([\n",
    "        keras.layers.Flatten(input_shape=[X_steps, 1]),\n",
    "        keras.layers.Dense(500, activation='tanh'),\n",
    "        keras.layers.Dropout(rate=0.2),\n",
    "        keras.layers.Dense(500, activation='tanh'),\n",
    "        keras.layers.Dense(500, activation='tanh'),\n",
    "        keras.layers.Dense(y_steps, activation='tanh')\n",
    "    ])\n",
    "    model4.compile(optimizer='Adam', loss=tf.keras.losses.MeanSquaredError())\n",
    "#     print('Model 4/5')\n",
    "    history4 = model4.fit(X_train_std, y_train_std, epochs = 11, verbose=0)\n",
    "    train_loss4 = history4.history['loss'][-1]\n",
    "    val_loss4 = model4.evaluate(X_val_std, y_val_std, verbose=0)\n",
    "    clear_output(wait=True)\n",
    "\n",
    "    model5 = keras.models.Sequential([\n",
    "        keras.layers.Flatten(input_shape=[X_steps, 1]),\n",
    "        keras.layers.Dense(500, activation='tanh'),\n",
    "        keras.layers.Dropout(rate=0.1),\n",
    "        keras.layers.Dense(500, activation='tanh'),\n",
    "        keras.layers.Dropout(rate=0.1),\n",
    "        keras.layers.Dense(500, activation='tanh'),\n",
    "        keras.layers.Dropout(rate=0.1),\n",
    "        keras.layers.Dense(y_steps, activation='tanh')\n",
    "    ])\n",
    "    model5.compile(optimizer='Adam', loss=tf.keras.losses.MeanSquaredError())\n",
    "#     print('Model 5/5')\n",
    "    history5 = model5.fit(X_train_std, y_train_std, epochs = 11, verbose=0)\n",
    "    train_loss5 = history5.history['loss'][-1]\n",
    "    val_loss5 = model5.evaluate(X_val_std, y_val_std, verbose=0)\n",
    "    clear_output(wait=True)\n",
    "    \n",
    "#     print(f'---Baseline---')\n",
    "#     print(f'training loss: {baseline_loss:.3f} testing loss: {baseline_loss:.3f}')\n",
    "#     print(f'---Vanilla---(Model 1)')\n",
    "#     print(f'training loss: {train_loss1:.3f} testing loss: {val_loss1:.3f}')\n",
    "#     print(f'---RNN (10 neurons)---(Model 2)')\n",
    "#     print(f'training loss: {train_loss2:.3f} testing loss: {val_loss2:.3f}')\n",
    "#     print(f'---RNN (30 neurons)---(Model 3)')\n",
    "#     print(f'training loss: {train_loss3:.3f} testing loss: {val_loss3:.3f}')\n",
    "#     print(f'---NN (1 dropout layer)---(Model 4)')\n",
    "#     print(f'training loss: {train_loss4:.3f} testing loss: {val_loss4:.3f}')\n",
    "#     print(f'---NN (3 dropout layers)---(Model 5)')\n",
    "#     print(f'training loss: {train_loss5:.3f} testing loss: {val_loss5:.3f}')\n",
    "    \n",
    "    if val_loss5 < val_loss4:\n",
    "        use_model = 5\n",
    "    elif ((val_loss5 - train_loss5) < (val_loss4 - train_loss4)) & ((val_loss4 - train_loss4) - (val_loss5 - train_loss5) > (val_loss5 - val_loss4)):\n",
    "        use_model = 5\n",
    "    else:\n",
    "        use_model = 4\n",
    "    \n",
    "    c.execute(f'''\n",
    "                    INSERT INTO MODEL_PERFORMANCE_2015_2020 (sensor_id,\n",
    "                                                   model4_train_loss,\n",
    "                                                   model4_test_loss,\n",
    "                                                   model5_train_loss,\n",
    "                                                   model5_test_loss,\n",
    "                                                   final_model)\n",
    "                                VALUES ({ID},\n",
    "                                        {train_loss4},\n",
    "                                        {val_loss4},\n",
    "                                        {train_loss5},\n",
    "                                        {val_loss5},\n",
    "                                        {use_model})\n",
    "\n",
    "              ''')\n",
    "    \n",
    "    conn.commit()\n",
    "    \n",
    "    if use_model == 1:\n",
    "        model1.save(filename + '_model_' + suffix)\n",
    "    elif use_model == 2:\n",
    "        model2.save(filename + '_model_' + suffix)\n",
    "    elif use_model == 3:\n",
    "        model3.save(filename + '_model_' + suffix)\n",
    "    elif use_model == 4:\n",
    "        model4.save(filename + '_model_' + suffix)\n",
    "    else:\n",
    "        model5.save(filename + '_model_' + suffix)\n",
    "      \n",
    "    clear_output(wait=True)"
   ]
  },
  {
   "cell_type": "code",
   "execution_count": null,
   "metadata": {},
   "outputs": [],
   "source": [
    "df['ID'].unique()"
   ]
  },
  {
   "cell_type": "code",
   "execution_count": null,
   "metadata": {},
   "outputs": [],
   "source": [
    "import tqdm\n",
    "start_year = 2015\n",
    "end_year = 2020\n",
    "ids = list(df[(df['DATA_AS_OF'] > str(start_year)) & (df['DATA_AS_OF'] < str(end_year + 1))]['ID'].unique())\n",
    "# index = ids.index(2)\n",
    "# ids = ids[index+1:]\n",
    "for x in tqdm.tqdm(ids):\n",
    "    sensor_etl(df, x, 'Sensor' + str(x), start_year, end_year)"
   ]
  },
  {
   "cell_type": "code",
   "execution_count": null,
   "metadata": {},
   "outputs": [],
   "source": [
    "ids[45]"
   ]
  },
  {
   "cell_type": "code",
   "execution_count": null,
   "metadata": {},
   "outputs": [],
   "source": [
    "import sqlite3\n",
    "import pandas as pd\n",
    "from pandas import DataFrame\n",
    "\n",
    "conn = sqlite3.connect('traffic_flow.db')\n",
    "c = conn.cursor()"
   ]
  },
  {
   "cell_type": "code",
   "execution_count": null,
   "metadata": {},
   "outputs": [],
   "source": [
    "# Create table - MODEL_PERFORMANCE\n",
    "c.execute('''CREATE TABLE MODEL_PERFORMANCE_2015_2020\n",
    "             ([sensor_id] INTEGER PRIMARY KEY,\n",
    "             [model1_train_loss] float,\n",
    "             [model1_test_loss] float,\n",
    "             [model2_train_loss] float,\n",
    "             [model2_test_loss] float,\n",
    "             [model3_train_loss] float,\n",
    "             [model3_test_loss] float,\n",
    "             [model4_train_loss] float,\n",
    "             [model4_test_loss] float,\n",
    "             [model5_train_loss] float,\n",
    "             [model5_test_loss] float,\n",
    "             [final_model] integer)''')\n",
    "          "
   ]
  },
  {
   "cell_type": "code",
   "execution_count": null,
   "metadata": {},
   "outputs": [],
   "source": [
    "conn.commit()"
   ]
  },
  {
   "cell_type": "code",
   "execution_count": null,
   "metadata": {},
   "outputs": [],
   "source": [
    "c.execute(\"SELECT name FROM sqlite_master WHERE type='table';\")\n",
    "print(c.fetchall())"
   ]
  },
  {
   "cell_type": "code",
   "execution_count": null,
   "metadata": {},
   "outputs": [],
   "source": [
    "c.execute(\"DELETE FROM MODEL_PERFORMANCE \")"
   ]
  },
  {
   "cell_type": "code",
   "execution_count": null,
   "metadata": {},
   "outputs": [],
   "source": [
    "conn.commit()"
   ]
  },
  {
   "cell_type": "code",
   "execution_count": null,
   "metadata": {},
   "outputs": [],
   "source": [
    "conn.close()"
   ]
  },
  {
   "cell_type": "code",
   "execution_count": null,
   "metadata": {},
   "outputs": [],
   "source": [
    "train_loss4 = 1.6\n",
    "val_loss4 = 2.3\n",
    "train_loss5 = 2.2\n",
    "val_loss5 = 2.6\n",
    "\n",
    "if val_loss5 < val_loss4:\n",
    "    use_model = 5\n",
    "elif ((val_loss5 - train_loss5) < (val_loss4 - train_loss4)) & ((val_loss4 - train_loss4) - (val_loss5 - train_loss5) > (val_loss5 - val_loss4)):\n",
    "    use_model = 5\n",
    "else:\n",
    "    use_model = 4\n",
    "use_model"
   ]
  },
  {
   "cell_type": "code",
   "execution_count": null,
   "metadata": {},
   "outputs": [],
   "source": [
    "df[(df['DATA_AS_OF'] > '2015') & (df['DATA_AS_OF'] < '2021')].shape"
   ]
  },
  {
   "cell_type": "code",
   "execution_count": null,
   "metadata": {},
   "outputs": [],
   "source": [
    "stand = df\n",
    "condition = [stand['SPEED'] == 0]\n",
    "choices = [np.nan]\n",
    "stand['SPEED'] = np.select(condition, choices, default=stand['SPEED'])\n",
    "stand.fillna(method = 'ffill', inplace = True)"
   ]
  },
  {
   "cell_type": "code",
   "execution_count": null,
   "metadata": {},
   "outputs": [],
   "source": [
    "stand['SPEED'].mean()"
   ]
  },
  {
   "cell_type": "code",
   "execution_count": null,
   "metadata": {},
   "outputs": [],
   "source": [
    "stand['SPEED'].std() * 0.3"
   ]
  },
  {
   "cell_type": "code",
   "execution_count": null,
   "metadata": {},
   "outputs": [],
   "source": [
    "import matplotlib.image as mpimg\n",
    "img = mpimg.imread('map.png')\n",
    "plt.figure(figsize=(10,10))\n",
    "plt.imshow(img)\n",
    "plt.grid(False)\n",
    "plt.axis(False)\n",
    "plt.show()"
   ]
  },
  {
   "cell_type": "code",
   "execution_count": null,
   "metadata": {},
   "outputs": [],
   "source": [
    "import os\n",
    "import time\n",
    "from selenium import webdriver\n",
    "\n",
    "delay=5\n",
    "fn='test.html'\n",
    "tmpurl='file://{path}/{mapfile}'.format(path=os.getcwd(),mapfile=fn)\n",
    "m.save(fn)\n",
    "\n",
    "browser = webdriver.Safari()\n",
    "browser.get(tmpurl)\n",
    "#Give the map tiles some time to load\n",
    "time.sleep(delay)\n",
    "browser.save_screenshot('map.png')\n",
    "browser.quit()"
   ]
  }
 ],
 "metadata": {
  "kernelspec": {
   "display_name": "Python 3",
   "language": "python",
   "name": "python3"
  },
  "language_info": {
   "codemirror_mode": {
    "name": "ipython",
    "version": 3
   },
   "file_extension": ".py",
   "mimetype": "text/x-python",
   "name": "python",
   "nbconvert_exporter": "python",
   "pygments_lexer": "ipython3",
   "version": "3.8.3"
  }
 },
 "nbformat": 4,
 "nbformat_minor": 2
}
