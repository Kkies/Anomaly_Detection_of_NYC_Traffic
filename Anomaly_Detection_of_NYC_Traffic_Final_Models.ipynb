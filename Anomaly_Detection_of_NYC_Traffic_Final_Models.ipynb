{
 "cells": [
  {
   "cell_type": "markdown",
   "metadata": {},
   "source": [
    "# Detecting NYC Traffic Anomalies Final Models Notebook"
   ]
  },
  {
   "cell_type": "markdown",
   "metadata": {},
   "source": [
    "In this notebook I will walkthrough the code to automate fitting the final model I created in the last notebook to all of the senors. If you are wondering how I got to the model we will be using, I recommend looking at the <b>Modeling Notebook</b> before continuing on with this one. Additionally, I will also walkthrough the code to detect traffic anomalies."
   ]
  },
  {
   "cell_type": "markdown",
   "metadata": {},
   "source": [
    "## Libraries Needed"
   ]
  },
  {
   "cell_type": "code",
   "execution_count": 1,
   "metadata": {},
   "outputs": [],
   "source": [
    "#import required libraries\n",
    "import pandas as pd\n",
    "import numpy as np\n",
    "import datetime\n",
    "import matplotlib.pyplot as plt\n",
    "import seaborn as sns\n",
    "import tqdm\n",
    "plt.style.use('fivethirtyeight')\n",
    "import folium\n",
    "from keras.losses import mean_squared_error\n",
    "import keras\n",
    "import tensorflow as tf\n",
    "import pickle\n",
    "import sqlite3\n",
    "%matplotlib inline"
   ]
  },
  {
   "cell_type": "markdown",
   "metadata": {},
   "source": [
    "## Custom Functions Needed"
   ]
  },
  {
   "cell_type": "code",
   "execution_count": 2,
   "metadata": {},
   "outputs": [],
   "source": [
    "def day_of_week_agg(df):\n",
    "    \"\"\"\n",
    "    Takes in a dataframe with an index of datetimes and groups the rows by the day of the week and then\n",
    "    averages the each column for all of the rows by the hour and minute in that groups.\n",
    "    The output of this function is a list of dataframes. One dataframe for each day of the week.\n",
    "    \"\"\"\n",
    "    #create an array of integers with the value equal to the day of the week for that row (0=Monday, 6=Sunday)\n",
    "    int_array = df.apply(lambda x: x.name.weekday(), axis = 1)\n",
    "    #instantiate an empty list\n",
    "    day_dfs = []\n",
    "    \n",
    "    #for each day of the week do the following\n",
    "    for i in range(7):\n",
    "        # make a new dataframe of only the rows with the day of the week i\n",
    "        day = df[(int_array == i)]\n",
    "        # average the data based on the minute of the day\n",
    "        day_agg = day.groupby([day.index.hour, day.index.minute]).mean()\n",
    "        # append the aggregated dataframe to a list\n",
    "        day_dfs.append(day_agg)\n",
    "    #return the list of aggregated dataframes\n",
    "    return day_dfs"
   ]
  },
  {
   "cell_type": "code",
   "execution_count": 3,
   "metadata": {},
   "outputs": [],
   "source": [
    "def standardize_df(dataframe, column, X_steps, y_steps, num_train_sets):\n",
    "    \"\"\"\n",
    "    This function standardizes the data of a column.\n",
    "    \n",
    "    dataframe: dataframe to standarize\n",
    "    column: the column in the dataframe to standardize\n",
    "    X_steps: the number of rows used to train on\n",
    "    y_steps: the number of rows used to test on\n",
    "    num_train_sets: the number of training sets there are for this dataframe\n",
    "    \"\"\"\n",
    "    #import needed libraries\n",
    "    from sklearn.preprocessing import StandardScaler\n",
    "    \n",
    "    #slice the dataframe down to the column to be scaled\n",
    "    df = pd.DataFrame(dataframe[column])\n",
    "    \n",
    "    # initialize the standard scaler\n",
    "    scaler = StandardScaler()\n",
    "    #train the standard scaler on the rows that will be in the training set\n",
    "    scaler = scaler.fit(df.iloc[:(num_train_sets * (X_steps + y_steps))])\n",
    "    #save the mean used to standardize the dataframe\n",
    "    mean = df.iloc[:(num_train_sets * (X_steps + y_steps))].mean().iloc[0]\n",
    "    #save the standard deviation used to standardize the dataframe\n",
    "    std = df.iloc[:(num_train_sets * (X_steps + y_steps))].std().iloc[0]\n",
    "    \n",
    "    # standardize the dataframe\n",
    "    df = pd.DataFrame(scaler.transform(df), columns=[column])\n",
    "    \n",
    "    # return the standardized dataframe with the mean and standard deviation used to standardize\n",
    "    return df, mean, std"
   ]
  },
  {
   "cell_type": "code",
   "execution_count": 4,
   "metadata": {},
   "outputs": [],
   "source": [
    "def train_val_test_dfs(dataframe, column, X_steps=50, y_steps=1, val_size=0.2, test_size=0.1, standardize=False):\n",
    "    \"\"\"\n",
    "    This function splits a dataframe into training, testing and\n",
    "    validation sets.\n",
    "    \n",
    "    dataframe: dataframe to split\n",
    "    column: string of the column in the dataframe to use since our application is a univariate timeseries\n",
    "    X_steps: integer of the number of rows used to train on\n",
    "    y_steps: integer of the number of rows used to predict on\n",
    "    val_size: float less than 1.0 of the percentage of the dataframe to be for validation\n",
    "    test_size: float less than 1.0 of the percentage of the dataframe to be for testing\n",
    "    standardize: boolean indicating whether or not to standardize the sets\n",
    "    \"\"\"\n",
    "    \n",
    "    # calculate the number of sets that are possible given the amount of steps to train and predict on\n",
    "    num_sets = len(dataframe) // (X_steps + y_steps)\n",
    "#     num_sets = len(dataframe) - (X_steps + y_steps) + 1\n",
    "    # calculate how to offset the data so that the sets are of the most recent data\n",
    "    offset = (len(dataframe) % (X_steps + y_steps))\n",
    "#     offset = 0\n",
    "    # calculate the number of validation sets\n",
    "    num_val_sets = int(num_sets * val_size)\n",
    "    # calculate the number of test sets\n",
    "    num_test_sets = int(num_sets * test_size)\n",
    "    # calculate the number of training sets\n",
    "    num_train_sets = num_sets - num_val_sets - num_test_sets\n",
    "    \n",
    "    # if the dataframe needs to be standardized then standardize it. Otherwise pass on the dataframe given\n",
    "    if standardize:\n",
    "        df, mean, std = standardize_df(dataframe, column, X_steps, y_steps, num_train_sets)\n",
    "    else:\n",
    "        df = dataframe.copy()\n",
    "        \n",
    "    # instantiate empty lists for each type of set\n",
    "    X_train, y_train = [], []\n",
    "    X_val, y_val = [], []\n",
    "    X_test, y_test = [], []\n",
    "    # loop the number of sets the dataframe can produce\n",
    "    for i in range(num_sets):\n",
    "        # if i is less than the number of training sets to be produced make another training set\n",
    "        if i < num_train_sets:\n",
    "            X_train.append(np.array(df[column].iloc[(i*X_steps) + offset: (i*X_steps) + X_steps + offset])[:, np.newaxis])\n",
    "            y_train.append(np.array(df[column].iloc[(i*X_steps) + X_steps + offset: (i*X_steps) + X_steps + offset + y_steps])[:, np.newaxis])\n",
    "        # else if i is less than the number of validation sets to be produced make another validation set\n",
    "        elif i < (num_train_sets + num_val_sets):\n",
    "            X_val.append(np.array(df[column].iloc[(i*X_steps) + offset: (i*X_steps) + X_steps + offset])[:, np.newaxis])\n",
    "            y_val.append(np.array(df[column].iloc[(i*X_steps) + X_steps + offset: (i*X_steps) + X_steps + offset + y_steps])[:, np.newaxis])\n",
    "        # else make a testing set\n",
    "        else:\n",
    "            X_test.append(np.array(df[column].iloc[(i*X_steps) + offset: (i*X_steps) + X_steps + offset])[:, np.newaxis])\n",
    "            y_test.append(np.array(df[column].iloc[(i*X_steps) + X_steps + offset: (i*X_steps) + X_steps + offset + y_steps])[:, np.newaxis])\n",
    "    # turn the lists into arrays so keras can process the each set\n",
    "    if standardize:\n",
    "        return np.array(X_train), np.array(y_train), np.array(X_val), np.array(y_val), np.array(X_test), np.array(y_test), mean, std\n",
    "    return np.array(X_train), np.array(y_train), np.array(X_val), np.array(y_val), np.array(X_test), np.array(y_test)"
   ]
  },
  {
   "cell_type": "markdown",
   "metadata": {},
   "source": [
    "## Establish Connection to Database"
   ]
  },
  {
   "cell_type": "markdown",
   "metadata": {},
   "source": [
    "We want to connect to a database because there is important informationt that we will generate that we want to be able to keep track of. For example, we want to be able to store the metrics for the final model of each sensor so we can do further analysis on the overall state of our system. I'm using sqlite3 for my database, but you can use any one you want. However, the code will probably be slightly different."
   ]
  },
  {
   "cell_type": "code",
   "execution_count": 5,
   "metadata": {},
   "outputs": [],
   "source": [
    "# Establish a connection to the database you want to use. If you are creating a new database\n",
    "# the code is the same. Just name the database in a way that makes sense to you and it will\n",
    "# be created in the same folder as this notebook.\n",
    "conn = sqlite3.connect('traffic_flow.db')\n",
    "\n",
    "# Instantiate a cursor instance to interact with your database\n",
    "c = conn.cursor()"
   ]
  },
  {
   "cell_type": "code",
   "execution_count": null,
   "metadata": {},
   "outputs": [],
   "source": [
    "# Create table - MODEL_METRICS\n",
    "c.execute('''CREATE TABLE MODEL_METRICS\n",
    "             ([sensor_id] INTEGER,\n",
    "             [date] TEXT,\n",
    "             [data_from] TEXT,\n",
    "             [data_to] TEXT,\n",
    "             [training_mean] FLOAT,\n",
    "             [training_std] FLOAT,\n",
    "             [baseline_loss] FLOAT,\n",
    "             [model_train_loss] FLOAT,\n",
    "             [model_test_loss] FLOAT,\n",
    "             PRIMARY KEY (sensor_id, date))''')\n",
    "          "
   ]
  },
  {
   "cell_type": "code",
   "execution_count": 6,
   "metadata": {},
   "outputs": [],
   "source": [
    "# commit the changes\n",
    "conn.commit()"
   ]
  },
  {
   "cell_type": "markdown",
   "metadata": {},
   "source": [
    "## Import Data"
   ]
  },
  {
   "cell_type": "code",
   "execution_count": 7,
   "metadata": {},
   "outputs": [],
   "source": [
    "with open('sensor_dfs.pickle', 'rb') as handle:\n",
    "    sensor_dfs = pickle.load(handle)"
   ]
  },
  {
   "cell_type": "code",
   "execution_count": 8,
   "metadata": {},
   "outputs": [],
   "source": [
    "# initialize the steps we will use for each sensor (explained in Modeling Notebook)\n",
    "X_steps = 6\n",
    "y_steps = 3"
   ]
  },
  {
   "cell_type": "markdown",
   "metadata": {},
   "source": [
    "## Training a Model for Each Sensor"
   ]
  },
  {
   "cell_type": "markdown",
   "metadata": {},
   "source": [
    "### Create function so that we can easily loop through the training for each sensor"
   ]
  },
  {
   "cell_type": "code",
   "execution_count": 9,
   "metadata": {},
   "outputs": [],
   "source": [
    "def sensor_etl(df, ID, filename, X_steps, y_steps):\n",
    "    \"\"\"\n",
    "    This function takes in a dataframe of sensor data and trains a model\n",
    "    for the sensor. It additionally saves two graphs for the sensor.\n",
    "    One shows the average weekly speed of the sensor and the other shows the avergage daily\n",
    "    trend of the sensor for each day of the week. Finally, it saves the model and uploads\n",
    "    key model paramters to an sql database\n",
    "    \n",
    "    data: input dictionary with each key being a sensor and its value the dataframe\n",
    "    ID: sensor ID\n",
    "    filename: the prefix of the name of the files you want the graphs and model to be saved under\n",
    "    X_steps: number of steps to take in for prediction\n",
    "    y_steps: number of steps to predict\n",
    "    \"\"\"\n",
    "        \n",
    "    #import libraries\n",
    "    from IPython.display import clear_output\n",
    "    import datetime\n",
    "    #get date information\n",
    "    date = datetime.datetime.now().strftime(\"%Y-%m-%d %H:%M:%S.000\")\n",
    "    data_from = df.index.min().strftime(\"%Y-%m-%d %H:%M:%S.000\")\n",
    "    data_to = df.index.max().strftime(\"%Y-%m-%d %H:%M:%S.000\")\n",
    "    \n",
    "    # Group the time series into weekly buckets\n",
    "    sens_weekly = df['SPEED'].resample('7D')\n",
    "\n",
    "    # Take the mean of each group \n",
    "    sens_weekly_mean = sens_weekly.mean()\n",
    "    \n",
    "    #plot the generic trend and save the figure\n",
    "    fig1, ax1 = plt.subplots(figsize=(16,8))\n",
    "    sens_weekly_mean.plot(color='blue', ax=ax1);\n",
    "    fig1.set_facecolor('white')\n",
    "    fig1.suptitle('Weekly Traffic Speeds (' + filename + ')')\n",
    "    ax1.grid(axis='y')\n",
    "    ax1.set_xlabel('Date')\n",
    "    ax1.set_ylabel('Average Traffic Speed (MPH)')\n",
    "    ax1.set_facecolor('white')\n",
    "    for x in ['bottom', 'top', 'right', 'left']:\n",
    "        ax1.spines[x].set_color('black')\n",
    "    \n",
    "    plt.savefig(filename + '_weekly_trend', bbox_inches='tight', facecolor='white')\n",
    "    plt.close()\n",
    "\n",
    "    #aggregate all of the data to each weekday and plot that data\n",
    "    weekly_agg = day_of_week_agg(df)\n",
    "\n",
    "    fig2, ax2 = plt.subplots(figsize=(16,8));\n",
    "    for i in range(7):\n",
    "        colors= ['blue', 'red', 'orange', 'green', 'gray', 'purple', 'darkblue']\n",
    "        weekly_agg[i]['SPEED'].plot(ax=ax2, color=colors[i], alpha=0.75);\n",
    "    color='black'   \n",
    "    fig2.legend(labels=['Monday', 'Tuesday', 'Wednesday', 'Thurday', 'Friday', 'Saturday', 'Sunday']\n",
    "               , edgecolor='black', framealpha=1, loc=(.85,.101), facecolor='white')\n",
    "    fig2.set_facecolor('white')\n",
    "    fig2.suptitle('Average Traffic Speeds Per Day (' + filename + ')', color=color)\n",
    "    ax2.grid(axis='y')\n",
    "    ax2.set_xticks([287, 251, 215, 179, 143, 107, 71, 35, 0])\n",
    "    ax2.set_xticklabels(['12am', '9pm', '6pm', '3pm', '12pm', '9am', '6am', '3am', '12am'], color=color)\n",
    "    ax2.set_xlabel('Time', color=color)\n",
    "    ax2.set_ylabel('Average Traffic Speed (MPH)', color=color)\n",
    "    ax2.set_facecolor('white')\n",
    "    ax2.tick_params(axis='y', colors=color)\n",
    "    for x in ['bottom', 'top', 'right', 'left']:\n",
    "        ax2.spines[x].set_color('black')\n",
    "    plt.savefig(filename + '_weekdays', bbox_inches='tight', facecolor='white')\n",
    "    plt.close()\n",
    "    \n",
    "\n",
    "    #standardize data and split into train, val and test sets\n",
    "    X_train, y_train, X_val, y_val, X_test, y_test, mean, std = train_val_test_dfs(dataframe = df, column = 'SPEED', X_steps = X_steps, y_steps = y_steps, standardize=True)\n",
    "    \n",
    "    #------MODELING------\n",
    "    #Baseline\n",
    "    y_pred = X_val[:, -y_steps:]\n",
    "\n",
    "    baseline_loss = np.mean(mean_squared_error(y_val, y_pred))\n",
    "\n",
    "    #Final Model\n",
    "    model = keras.models.Sequential([\n",
    "        keras.layers.Flatten(input_shape=[X_steps, 1]),\n",
    "        keras.layers.Dense(200),\n",
    "        keras.layers.Dropout(rate=0.2),\n",
    "        keras.layers.Dense(20),\n",
    "        keras.layers.Dense(y_steps)\n",
    "    ])\n",
    "\n",
    "    model.compile(optimizer='Adam', loss=tf.keras.losses.MeanSquaredError())\n",
    "    #save history of fiting model\n",
    "    history = model.fit(X_train, y_train, epochs = 5, verbose=0)\n",
    "    #retrieve and save training loss\n",
    "    train_loss = history.history['loss'][-1]\n",
    "    #save validation loss\n",
    "    val_loss = model.evaluate(X_val, y_val, verbose=0)\n",
    "    \n",
    "    #save to SQL database\n",
    "    c.execute(f'''\n",
    "                    INSERT INTO MODEL_METRICS (sensor_id,\n",
    "                                               date,\n",
    "                                               data_from,\n",
    "                                               data_to,\n",
    "                                               training_mean,\n",
    "                                               training_std,\n",
    "                                               baseline_loss,\n",
    "                                               model_train_loss,\n",
    "                                               model_test_loss)\n",
    "                                VALUES (\n",
    "                                        {ID},\n",
    "                                        '{date}',\n",
    "                                        '{data_from}',\n",
    "                                        '{data_to}',\n",
    "                                        {mean},\n",
    "                                        {std},\n",
    "                                        {baseline_loss},\n",
    "                                        {train_loss},\n",
    "                                        {val_loss})\n",
    "\n",
    "             ''')\n",
    "    #commit the changes\n",
    "    conn.commit()\n",
    "    #save the model\n",
    "    model.save(filename + '_model')\n",
    "      \n",
    "    clear_output(wait=True)"
   ]
  },
  {
   "cell_type": "markdown",
   "metadata": {},
   "source": [
    "### Implement Function"
   ]
  },
  {
   "cell_type": "code",
   "execution_count": null,
   "metadata": {},
   "outputs": [],
   "source": [
    "# This loops through each sensor dataframe and applies the function we just made to it.\n",
    "\n",
    "# instantiate an empty dictionary to keep track of any errors\n",
    "errors = {}\n",
    "for key, value in tqdm.tqdm(sensor_dfs.items()):\n",
    "    # try the following\n",
    "    try:\n",
    "        # name each file after the sensor\n",
    "        filename = f'Sensor_{key}'\n",
    "        # apply previously made function\n",
    "        sensor_etl(df = value, ID = key, filename = filename, X_steps = X_steps, y_steps = y_steps)\n",
    "    # if their is an error save the sensor number that had an error and the error message\n",
    "    except Exception as e:\n",
    "        errors[key] = e"
   ]
  },
  {
   "cell_type": "code",
   "execution_count": null,
   "metadata": {},
   "outputs": [],
   "source": [
    "errors"
   ]
  },
  {
   "cell_type": "markdown",
   "metadata": {},
   "source": [
    "Great, we had zero errors!"
   ]
  },
  {
   "cell_type": "markdown",
   "metadata": {},
   "source": [
    "## Explore Final Model Data"
   ]
  },
  {
   "cell_type": "code",
   "execution_count": 10,
   "metadata": {},
   "outputs": [],
   "source": [
    "# query for our average model metrics\n",
    "c.execute(''' SELECT AVG(model_train_loss), AVG(model_test_loss), AVG(training_mean), AVG(training_std) FROM MODEL_METRICS''');\n",
    "avg_performance = c.fetchone()"
   ]
  },
  {
   "cell_type": "code",
   "execution_count": 11,
   "metadata": {
    "scrolled": true
   },
   "outputs": [
    {
     "name": "stdout",
     "output_type": "stream",
     "text": [
      "Average training loss: 0.3471\n",
      "Average testing loss: 0.3706\n",
      "Average training mean: 35.7682\n",
      "Average training standard deviation: 13.4657\n"
     ]
    }
   ],
   "source": [
    "print(f'Average training loss: {avg_performance[0] ** 0.5:.4f}')\n",
    "print(f'Average testing loss: {avg_performance[1] ** 0.5:.4f}')\n",
    "print(f'Average training mean: {avg_performance[2]:.4f}')\n",
    "print(f'Average training standard deviation: {avg_performance[3]:.4f}')"
   ]
  },
  {
   "cell_type": "markdown",
   "metadata": {},
   "source": [
    "These metrics look good. Our averages were inline with what we achieved in the modeling notebook. Let's visualize these metrics in a more impactful way!"
   ]
  },
  {
   "cell_type": "code",
   "execution_count": 12,
   "metadata": {},
   "outputs": [],
   "source": [
    "# query for all of model metrics\n",
    "c.execute(''' SELECT model_train_loss, model_test_loss FROM MODEL_METRICS''');\n",
    "data = c.fetchall()\n",
    "all_models_train_loss = [x[0] ** 0.5 for x in data]\n",
    "all_models_test_loss = [x[1] ** 0.5 for x in data]\n",
    "loss_df = pd.DataFrame([all_models_train_loss, all_models_test_loss], index=[0.5, 1.5]).T"
   ]
  },
  {
   "cell_type": "code",
   "execution_count": 13,
   "metadata": {
    "scrolled": false
   },
   "outputs": [
    {
     "data": {
      "image/png": "[encoded data removed]",
      "text/plain": [
       "<Figure size 360x360 with 1 Axes>"
      ]
     },
     "metadata": {
      "needs_background": "light"
     },
     "output_type": "display_data"
    }
   ],
   "source": [
    "fig, ax = plt.subplots(figsize=(5,5))\n",
    "             \n",
    "sns.stripplot(data=loss_df, jitter=1, ax=ax)\n",
    "sns.boxplot(data=loss_df, width=0.4, color='darkgrey', ax=ax)\n",
    "ax.grid(color='lightgrey')\n",
    "ax.set_xticklabels(['Training loss', 'Testing loss'], fontsize=16)\n",
    "ax.set_yticklabels([0.0,0.0,0.2,0.4,0.6,0.8], fontsize=16)\n",
    "ax.set_ylabel('RMSE', fontsize=16)\n",
    "ax.set_title('Loss Distribution for Training and Testing', fontsize=18)\n",
    "for x in ['bottom', 'top', 'right', 'left']:\n",
    "    ax.spines[x].set_color('black')\n",
    "    \n",
    "plt.savefig('loss_distribution', bbox_inches='tight', facecolor='white')"
   ]
  },
  {
   "cell_type": "markdown",
   "metadata": {},
   "source": [
    "Very nice! This gives us more robust information. We can now visualize the quartiles of our metrics and see the training vs testing distributions side by side. They look very similar, which is good because that highlights that our model is well-balanced."
   ]
  },
  {
   "cell_type": "markdown",
   "metadata": {},
   "source": [
    "## Anomaly Detection"
   ]
  },
  {
   "cell_type": "markdown",
   "metadata": {},
   "source": [
    "For this section, I'm only going to walkthrough an example for one sensor (sensor 142). In future notebooks I hope to automate this process for all the sensors."
   ]
  },
  {
   "cell_type": "code",
   "execution_count": 14,
   "metadata": {},
   "outputs": [],
   "source": [
    "# load model for selected sensor\n",
    "model = keras.models.load_model('Sensor_142_model/')"
   ]
  },
  {
   "cell_type": "markdown",
   "metadata": {},
   "source": [
    "For this example we are only going to focus on the last 30 days of data for this sensor. We need to format the last thirty days of data into tuples that we can input into our model."
   ]
  },
  {
   "cell_type": "code",
   "execution_count": 15,
   "metadata": {},
   "outputs": [],
   "source": [
    "# query for our model mean and standard deviation\n",
    "c.execute(''' SELECT training_mean, training_std FROM MODEL_METRICS WHERE sensor_id = 142''');\n",
    "metrics_142 = c.fetchone()\n",
    "mean, std = metrics_142[0], metrics_142[1]"
   ]
  },
  {
   "cell_type": "code",
   "execution_count": 16,
   "metadata": {},
   "outputs": [],
   "source": [
    "# 30 days of data 288 * 30\n",
    "num = 8640\n",
    "# standardize data\n",
    "data = (sensor_dfs[142]['SPEED'].iloc[-num:] - mean) / std\n",
    "# instantiate empty list\n",
    "temp = []\n",
    "# for as many sets as you can get from the sensor data do the following\n",
    "for i in range(num - 5):\n",
    "    # add to temp list the next six data points in the correct tuple format\n",
    "    temp.append(data.iloc[i:i + 6][:, np.newaxis])\n",
    "# save formatted data\n",
    "x_data = np.array(temp)\n",
    "# save x values (datetimes)\n",
    "xs = data.index[-(num - 5):]\n",
    "# save actual speed values\n",
    "actual = data.values[-(num - 5):] * std + mean\n",
    "# calculate and save predicted speed values\n",
    "predictions = model.predict(x_data)[:,0].flatten() * std + mean"
   ]
  },
  {
   "cell_type": "markdown",
   "metadata": {},
   "source": [
    "Now that we have all of our data ready we can visualize our anomaly detection in a simulated real-time graph."
   ]
  },
  {
   "cell_type": "code",
   "execution_count": null,
   "metadata": {},
   "outputs": [],
   "source": [
    "# import necessary libraries\n",
    "import matplotlib.pyplot as plt\n",
    "import matplotlib.animation as animation\n",
    "import matplotlib.dates as mdates\n",
    "from matplotlib.lines import Line2D\n",
    "# the only way this worked for me was using the tk magic command instead of inline\n",
    "# this will open the plot in a new window\n",
    "%matplotlib tk\n",
    "\n",
    "# Create figure for plotting\n",
    "fig, ax = plt.subplots(figsize=(10,5))\n",
    "\n",
    "#initialize values\n",
    "x = []\n",
    "y = []\n",
    "cmap = []\n",
    "expected = []\n",
    "index = 0\n",
    "\n",
    "# This function is called periodically from FuncAnimation\n",
    "def animate(i, x, y, cmap, index, expected):\n",
    "    \n",
    "    # get speed value for this step\n",
    "    speed = actual[i]\n",
    "    # get date value for this step\n",
    "    date = xs[i]\n",
    "    \n",
    "    # if this is the first step do the following\n",
    "    if i == 0:\n",
    "        \n",
    "        # initialize values\n",
    "        x = []\n",
    "        y = []\n",
    "        cmap = []\n",
    "        expected = []\n",
    "        # set index equal to the value thats equivalent to the current date and time\n",
    "        index = int(date.weekday() * 288 + (date.hour * 60 + date.minute)/5)\n",
    "    else:\n",
    "        # if value is an anomaly plot the point red\n",
    "        if (speed - predictions[i]) < -4: #this value was calculated  using 0.8*std*rmse\n",
    "            cmap.append('r')\n",
    "        # otherwise plot it blue\n",
    "        else:\n",
    "            cmap.append('b')\n",
    "            \n",
    "        # Add x and y to lists\n",
    "        x.append(date)\n",
    "        y.append(speed)\n",
    "#         expected = agg['SPEED'].values[index: index + i]\n",
    "    \n",
    "    \n",
    "    # Limit x and y lists to 40 items\n",
    "    x = x[-40:]\n",
    "    y = y[-40:]\n",
    "    cmap = cmap[-40:]\n",
    "#     expected = expected[-40:]\n",
    "\n",
    "    # Draw x and y lists/ format axis\n",
    "    ax.clear()\n",
    "#     ax.plot(x,expected)\n",
    "    ax.plot(x, y, alpha =0.5, c='blue')\n",
    "    ax.scatter(x, y, color=cmap)\n",
    "    ax.set_ylim(0,70)\n",
    "    locator = mdates.AutoDateLocator(minticks=6, maxticks=10)\n",
    "    formatter = mdates.ConciseDateFormatter(locator)\n",
    "    ax.xaxis.set_major_locator(locator)\n",
    "    ax.xaxis.set_major_formatter(formatter)\n",
    "    legend_elements = [Line2D([0], [0], marker='o', color='w',markerfacecolor='b', label='Normal'),\n",
    "                       Line2D([0], [0], marker='o', color='w',markerfacecolor='r', label='Anomaly')]\n",
    "    ax.legend(handles=legend_elements, facecolor='white')\n",
    "    for x in ['bottom', 'top', 'right', 'left']:\n",
    "        ax.spines[x].set_color('black')\n",
    "        \n",
    "    # Format plot\n",
    "    plt.subplots_adjust(bottom=0.30)\n",
    "    plt.title(f'Sensor 142 Real-Time Traffic Speed')\n",
    "    plt.ylabel('Speed (MPH)')\n",
    "    plt.xlabel('Time')\n",
    "\n",
    "# Set up plot to call animate() function periodically (frames is the amount of times I want to call the function)\n",
    "ani = animation.FuncAnimation(fig, animate, fargs=(x, y, cmap, index, expected), frames=4000, interval=500)\n",
    "plt.show()"
   ]
  },
  {
   "cell_type": "markdown",
   "metadata": {},
   "source": [
    "## Conclusion"
   ]
  },
  {
   "cell_type": "markdown",
   "metadata": {},
   "source": [
    "Congratulations! You are now detecting anomalies of NYC traffic data! This is a basic start to a cleaner and more automated process, but now you have the building blocks to take it to the next level. I hope you enjoyed this as much as I did. FYI, I do hope to continue this project in more detail, so stay tuned for that. Thank you."
   ]
  }
 ],
 "metadata": {
  "kernelspec": {
   "display_name": "Python 3",
   "language": "python",
   "name": "python3"
  },
  "language_info": {
   "codemirror_mode": {
    "name": "ipython",
    "version": 3
   },
   "file_extension": ".py",
   "mimetype": "text/x-python",
   "name": "python",
   "nbconvert_exporter": "python",
   "pygments_lexer": "ipython3",
   "version": "3.8.3"
  }
 },
 "nbformat": 4,
 "nbformat_minor": 2
}
